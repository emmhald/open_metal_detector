{
 "cells": [
  {
   "cell_type": "code",
   "execution_count": 3,
   "id": "cd0f3229-587e-448c-856a-fd04547a7727",
   "metadata": {},
   "outputs": [],
   "source": [
    "import sys\n",
    "import warnings\n",
    "import os\n",
    "from omsdetector import MofCollection \n",
    "from pymatgen.core import Structure\n",
    "# from pymatgen.io.vasp import Poscar\n",
    "# from pymatgen.io.cif import CifWriter"
   ]
  },
  {
   "cell_type": "code",
   "execution_count": null,
   "id": "f2d21059-9484-4801-9005-36de76659b09",
   "metadata": {},
   "outputs": [],
   "source": []
  }
 ],
 "metadata": {
  "kernelspec": {
   "display_name": "omd",
   "language": "python",
   "name": "omd"
  },
  "language_info": {
   "codemirror_mode": {
    "name": "ipython",
    "version": 3
   },
   "file_extension": ".py",
   "mimetype": "text/x-python",
   "name": "python",
   "nbconvert_exporter": "python",
   "pygments_lexer": "ipython3",
   "version": "3.10.2"
  }
 },
 "nbformat": 4,
 "nbformat_minor": 5
}
