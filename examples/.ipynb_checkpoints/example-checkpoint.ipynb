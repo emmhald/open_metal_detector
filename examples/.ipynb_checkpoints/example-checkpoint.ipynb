{
 "cells": [
  {
   "cell_type": "code",
   "execution_count": 2,
   "metadata": {
    "tags": []
   },
   "outputs": [
    {
     "name": "stdout",
     "output_type": "stream",
     "text": [
      "Python 3.8.12\n",
      "/Users/gjonesresearch/miniconda3/envs/DevPIs/bin/python\n"
     ]
    }
   ],
   "source": [
    "import sys\n",
    "!{sys.executable} --version\n",
    "!which {sys.executable}\n",
    "# !{sys.executable} -m pip install matplotlib\n",
    "import warnings\n",
    "import os\n",
    "from omsdetector import MofCollection \n",
    "from pymatgen.core import Structure\n",
    "from pymatgen.io.vasp import Poscar\n",
    "from pymatgen.io.cif import CifWriter\n",
    "from glob import glob"
   ]
  },
  {
   "cell_type": "markdown",
   "metadata": {},
   "source": [
    "## Creating a MOF Collection\n",
    "### Loading from path names.\n",
    "\n",
    "We can build a **MofCollection** from a list of paths to MOF CIF files. We can also specify the **analysis_folder** where all the results of the analyses perfromed on this MOF collection will be stored. The default value is analysis_folder = 'analysis_folder'."
   ]
  },
  {
   "cell_type": "code",
   "execution_count": null,
   "metadata": {},
   "outputs": [],
   "source": [
    "# # POSCAR to cif\n",
    "# path2test='/Users/gjonesresearch/FeO_Local/Zeolite/test_zeolites'\n",
    "# structure = Structure.from_file(os.path.join(path2test,'POSCAR'))\n",
    "# structure.to(filename=os.path.join(path2test,'zsmfixed.cif'))"
   ]
  },
  {
   "cell_type": "code",
   "execution_count": null,
   "metadata": {},
   "outputs": [],
   "source": [
    "path_list = glob('/Users/gjonesresearch/FeO_Local/Zeolite/cifs/*.cif')\n",
    "\n",
    "# path_list = ['cif_files_example/HKUST-1_ASR_FIQCEN_clean.cif', \n",
    "             # 'cif_files_example/MgMOF-74_ASR_RAVVUH_clean.cif', \n",
    "             # 'cif_files_example/MOF-5_ASR_MIBQAR_clean.cif']\n",
    "\n",
    "a_mof_collection = MofCollection(path_list = path_list, analysis_folder=\"analysis_folder_example\")\n",
    "\n",
    "print(\"There are {} MOFs in the collection.\".format(len(a_mof_collection)))"
   ]
  },
  {
   "cell_type": "code",
   "execution_count": null,
   "metadata": {},
   "outputs": [],
   "source": [
    "print(a_mof_collection)"
   ]
  },
  {
   "cell_type": "markdown",
   "metadata": {},
   "source": [
    "### Loading CIFs from folder.\n",
    "\n",
    "It is often conveniet to load all the CIF files located in a specific folder. \n",
    "\n",
    "We can do this by using the **from_folder()** method to create the MofCollection object."
   ]
  },
  {
   "cell_type": "code",
   "execution_count": null,
   "metadata": {},
   "outputs": [],
   "source": [
    "a_mof_collection = MofCollection.from_folder(collection_folder='/Users/gjonesresearch/FeO_Local/Zeolite/cifs/', analysis_folder=\"analysis_folder_example\")\n",
    "\n",
    "print(\"There are {} MOFs in the collection.\".format(len(a_mof_collection)))"
   ]
  },
  {
   "cell_type": "markdown",
   "metadata": {},
   "source": [
    "### Loading selected CIFs from folder.\n",
    "\n",
    "We might have a large number of CIFs in a folder but are only interested in examing a small subset of them. To accomplish this we can create a MofCollection from a folder as before but this time provide the additional argument __name_list__ which is a list of the names of MOFs we are interested in. \n",
    "\n",
    "For example:"
   ]
  },
  {
   "cell_type": "code",
   "execution_count": null,
   "metadata": {},
   "outputs": [],
   "source": [
    "a_mof_collection_name_list = MofCollection.from_folder(collection_folder='/Users/gjonesresearch/FeO_Local/Zeolite/cifs/', \n",
    "                                                       analysis_folder=\"analysis_folder_example\")\n",
    "\n",
    "print(\"There are {} MOFs in the collection.\".format(len(a_mof_collection_name_list)))"
   ]
  },
  {
   "cell_type": "markdown",
   "metadata": {},
   "source": [
    "## Filtering a Collection\n",
    "Before analyzing the MOFs in the collection we created we might want to filter the collection and keep only MOFs with certain characteristics, for example MOFs that contain certain metal atoms.\n",
    "\n",
    "We can do this using the **filter_collection()** method on the collection object. The CIF files that match the filter will be included to this collection. \n",
    "\n",
    "### Keep CIF files in original location\n",
    "\n",
    "By default the cif files will be still pointing to the original location. This might be useful if we want to analyze a subset of MOFs without copying over the files."
   ]
  },
  {
   "cell_type": "code",
   "execution_count": null,
   "metadata": {},
   "outputs": [],
   "source": [
    "# help(a_mof_collection)"
   ]
  },
  {
   "cell_type": "code",
   "execution_count": null,
   "metadata": {},
   "outputs": [],
   "source": [
    "Fe_coll = a_mof_collection.filter_collection(using_filter={\"non_metal_species\":[\"O\"]})"
   ]
  },
  {
   "cell_type": "markdown",
   "metadata": {},
   "source": [
    "### Define a new CIF folder when filtering\n",
    "If the keyword **new_collection_folder** is set when filtering a collection the CIF files will be coppied to that folder and paths for the CIF files of the collection will be updated to point to the new location."
   ]
  },
  {
   "cell_type": "code",
   "execution_count": null,
   "metadata": {},
   "outputs": [],
   "source": [
    "Fe_coll = a_mof_collection.filter_collection(using_filter={\"non_metal_species\":[\"O\"]},new_collection_folder=\"Oxygen_containing_Cifs\")"
   ]
  },
  {
   "cell_type": "markdown",
   "metadata": {},
   "source": [
    "### Copy filtered collection later\n",
    "\n",
    "The third option is to create a filtered collection and explicitly copy the files at a later stage."
   ]
  },
  {
   "cell_type": "code",
   "execution_count": null,
   "metadata": {},
   "outputs": [],
   "source": [
    "# Fe_coll = a_mof_collection.filter_collection(using_filter={\"metal_species\":[\"Fe\"], \"non_metal_species\":[\"O\"]})\n",
    "# print(Fe_coll)"
   ]
  },
  {
   "cell_type": "code",
   "execution_count": null,
   "metadata": {},
   "outputs": [],
   "source": [
    "# Fe_coll.copy_cifs(target_folder=\"Fe_mofs\")\n",
    "# print(Fe_coll)"
   ]
  },
  {
   "cell_type": "markdown",
   "metadata": {},
   "source": [
    "The same operations can be performed for any results that might be present using the **new_analysis_folder** keyword  or the **copy_results()** function."
   ]
  },
  {
   "cell_type": "markdown",
   "metadata": {},
   "source": [
    "## Analyze a MOF Collection\n",
    "\n",
    "Once we have a MOF collection we can run the **analyse_mofs()** method on it, which will detect all the open metal sites (OMS) in the collection. "
   ]
  },
  {
   "cell_type": "code",
   "execution_count": null,
   "metadata": {},
   "outputs": [],
   "source": [
    "a_mof_collection.analyse_mofs()"
   ]
  },
  {
   "cell_type": "markdown",
   "metadata": {},
   "source": [
    "### How to overwrite results\n",
    "\n",
    "If we try to re-run the analysis code it will by default only analyze MOFs for which no results can be found. This makes it easy to resume a calculation that ended prematurely."
   ]
  },
  {
   "cell_type": "code",
   "execution_count": null,
   "metadata": {},
   "outputs": [],
   "source": [
    "# a_mof_collection.analyse_mofs()"
   ]
  },
  {
   "cell_type": "markdown",
   "metadata": {},
   "source": [
    "To control this behavior and force all the MOFs for which results exist to be reanalyzed we can set the keyword **overwrite** to True."
   ]
  },
  {
   "cell_type": "code",
   "execution_count": null,
   "metadata": {},
   "outputs": [],
   "source": [
    "# a_mof_collection.analyse_mofs(overwrite=True)"
   ]
  },
  {
   "cell_type": "markdown",
   "metadata": {},
   "source": [
    "### Run analysis in parallel\n",
    "\n",
    "Since every MOF can be analyzed separately we can parallelize the analysis by splitting the structures in batches and running each batch as a separate process. The number of batches is specified using the **num_batches** keyword for which the default value is 1. The structures are first ordered based on the square of the number of atoms and then split into batches. This ensures that all the batches will run roughly in the same time, which results in a time efficient completion of the analysis."
   ]
  },
  {
   "cell_type": "code",
   "execution_count": null,
   "metadata": {},
   "outputs": [],
   "source": [
    "# a_mof_collection.analyse_mofs(num_batches=3, overwrite=True)"
   ]
  },
  {
   "cell_type": "markdown",
   "metadata": {},
   "source": [
    "## Summarizing Results\n",
    "\n",
    "### Summary for each metal type\n",
    "\n",
    "We can get a table that summarizes the findings for each metal type using the __summarize_results()__ function."
   ]
  },
  {
   "cell_type": "code",
   "execution_count": null,
   "metadata": {},
   "outputs": [],
   "source": [
    "a_mof_collection.summarize_results()"
   ]
  },
  {
   "cell_type": "markdown",
   "metadata": {},
   "source": [
    "### Summary for each MOF\n",
    "\n",
    "We can obtain a DataFrame for the OMS for each MOF using the __mof_oms_df__ variable of the __MofCollection__ object."
   ]
  },
  {
   "cell_type": "code",
   "execution_count": null,
   "metadata": {},
   "outputs": [],
   "source": [
    "mofs_df = a_mof_collection.mof_oms_df\n",
    "print(mofs_df)"
   ]
  },
  {
   "cell_type": "markdown",
   "metadata": {},
   "source": [
    "We can then use standard pandas operations to select MOFs, for example, with certain metals or all MOFs that have OMS."
   ]
  },
  {
   "cell_type": "code",
   "execution_count": null,
   "metadata": {},
   "outputs": [],
   "source": [
    "print(\"MOFs that contain Fe\")\n",
    "print(mofs_df[mofs_df[\"Metal Types\"].str.contains(\"Fe\")])\n",
    "print(\"\\nMOFs that have OMS\")\n",
    "print(mofs_df[mofs_df[\"Has OMS\"] == \"Yes\"])"
   ]
  },
  {
   "cell_type": "markdown",
   "metadata": {},
   "source": [
    "### Filter collection using results\n",
    "\n",
    "Finally, we can use the filter function to isolate, for example, MOFs that have Co metal sites and that contain open metal sites. We can also copy the cif files and result files for this subset to new locations by providing values for the **new_collection_folder** and **new_analysis_folder** keywords."
   ]
  },
  {
   "cell_type": "code",
   "execution_count": null,
   "metadata": {},
   "outputs": [],
   "source": [
    "Fe_oms = a_mof_collection.filter_collection(using_filter={\"metal_species\":[\"Fe\"], \"has_oms\":True},\n",
    "                                            new_collection_folder='Fe_oms',\n",
    "                                            new_analysis_folder='Fe_oms_analysis')\n",
    "\n",
    "print(Fe_oms)"
   ]
  },
  {
   "cell_type": "code",
   "execution_count": null,
   "metadata": {},
   "outputs": [],
   "source": []
  }
 ],
 "metadata": {
  "kernelspec": {
   "display_name": "DevPIs",
   "language": "python",
   "name": "devpis"
  },
  "language_info": {
   "codemirror_mode": {
    "name": "ipython",
    "version": 3
   },
   "file_extension": ".py",
   "mimetype": "text/x-python",
   "name": "python",
   "nbconvert_exporter": "python",
   "pygments_lexer": "ipython3",
   "version": "3.8.12"
  }
 },
 "nbformat": 4,
 "nbformat_minor": 4
}
